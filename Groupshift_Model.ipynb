{
  "nbformat": 4,
  "nbformat_minor": 0,
  "metadata": {
    "colab": {
      "provenance": [],
      "collapsed_sections": [],
      "toc_visible": true,
      "authorship_tag": "ABX9TyN6x2fg4Mwf8sRt0ulXg7D1"
    },
    "kernelspec": {
      "name": "python3",
      "display_name": "Python 3"
    },
    "language_info": {
      "name": "python"
    }
  },
  "cells": [
    {
      "cell_type": "markdown",
      "source": [
        "# Research notes\n",
        "\n",
        "### General notes\n",
        "\n",
        "* Two regimes in time: annealing, and then settled\n",
        "* Two regimes in setup: Egalitarian (Free knowledge) and dictator (Centralized knowledge)\n",
        "\n",
        "---\n",
        "### Model modification ideas\n",
        "\n",
        "#### ⬛ **Major idea 1:** Groups have many dimensions\n",
        "\n",
        "* Groups have the same number of preference dimensions as individuals\n",
        "* Groups have fewer dimensions than individuals\n",
        " * Individuals need to balance their fulfillment with groups? How do they choose?\n",
        "  * **Choice rule 1:** Individuals focus on the dimension which is furthest from any existing group (\"I join this group to fulfill something I can't fulfill alone\")\n",
        "  * **Choice rule 2:** Individuals join multiple groups until all their dimensions are met\n",
        "* Groups have more dimensions than individuals??\n",
        " * The groups' identity changes as the members who make it up change\n",
        " * Absent any within-group dynamics, why would this be any different than having separate groups?\n",
        "\n",
        "#### ⬛ **Major idea 2:** Multiple group membership\n",
        "\n",
        "* Individuals must join X groups, where X > 1\n",
        "* Individuals join as many groups as fulfills them. This may need to involve some counterbalancing mechanic where individuals suffer a penalty for joining too many groups\n",
        " * Fulfillment : closest for each dimension\n",
        " * Fulfillment : closets for important dimensions\n",
        "\n",
        "#### ⬛ **Major idea 3:** Groups splitting and joining\n",
        "\n",
        "Easier goal would be to set up the rules explicitly and see how individual choices affects group ecology. \n",
        "\n",
        "* Encoding rules for groups splitting and fusing explicitly\n",
        "  * Splitting because of size (i.e. group > 300 so it splits)\n",
        "  * Splitting because of difference? (i.e. group's distribution has two modes, so it splits)\n",
        "  * Splitting because of an optimization parameter (i.e. if a subset of the group would have decreased dissimilarity, it splits)\n",
        "\n",
        "Harder goal would be to set up rules such that groups split and join dynamically. \n",
        "\n",
        "* Create set of rules that defines the substance/scope of group identity, and less about parsing out \"least bad alternatives\"\n",
        "\n",
        "#### ⬛ **Major idea 4:** Bounded confidence\n",
        "\n",
        "* Bounded confidence? Overlapping latitudes of acceptance/rejection? Ideas from discussion with Harry, terms from Jiin\n",
        " * Various inspirations from polarization psych analogous to network stuff\n",
        "\n",
        "---\n",
        "\n",
        "#### Other ideas\n",
        "\n",
        "* Pure random model\n",
        "* Let group hold its value before dying, from Jordan and Ismael. \n",
        " * PROS: Gets at a sense of 'history'\n",
        " * CONS: It may not contribute to novel community growth?\n",
        "* Heterogeneous accessibility / central media\n",
        " * Try to replicate the crash-and-burn dynamics of a central group actor\n",
        "* Individuals are in a network (what would this mean?), or groups are in a network (what would this mean?)\n",
        "* Mean voting for groups. Other mechanics/functions for group's preference value\n",
        "* Circular preference dimension\n",
        "* Write out the abstract/mathy form of this model. Function for choice, function for group aggregation of value \n",
        "\n",
        "### Model checks\n",
        "\n",
        "* Test if it matters that individual values are discrete or continuous. Int vs float\n",
        "\n",
        "#### Tossed\n",
        "\n",
        "* Initialize with \"closest group\", from Sabina. Now with the model fixed, this will likely just be immediately stable. (DONE)\n",
        "\n",
        "-----\n",
        "\n",
        "### General dataset comparison ideas\n",
        "\n",
        "* Crash-and-burn dynamics of platform chasing\n",
        "* Within-person group changing dynamics\n",
        "* Catching an ‘invisible exodus’ of people from one subreddit, and checking if they move to another subreddit? If the other sub survives?\n",
        "\n",
        "\n",
        "### Specific dataset comparison ideas\n",
        "\n",
        "* Take the times between group-switching for a particular person. Compare them to the times between subreddit-switching posting for a particular person? (Here posts==time)\n",
        "\n",
        "--- "
      ],
      "metadata": {
        "id": "H3vM0VZPKqkY"
      }
    },
    {
      "cell_type": "markdown",
      "source": [
        "# Setup functions\n",
        "\n",
        "This should try its best to separate the following:\n",
        "* Editing individual's relationships to groups\n",
        "* Groups updating their values\n",
        "* Any effects on public information\n",
        "\n",
        "\n",
        "\n",
        "Class-version where you extend the graph class to include the individual function and group function. Good for instantiating many versions of the simulation. "
      ],
      "metadata": {
        "id": "ha-t-dxOjDln"
      }
    },
    {
      "cell_type": "markdown",
      "source": [
        "## Universal Functions"
      ],
      "metadata": {
        "id": "4MzU9slsmCtl"
      }
    },
    {
      "cell_type": "code",
      "execution_count": null,
      "metadata": {
        "id": "eSIrAuu8KjLA"
      },
      "outputs": [],
      "source": [
        "import networkx as nx\n",
        "import numpy as np\n",
        "from tqdm import tqdm\n",
        "from matplotlib import pyplot as plt\n",
        "import time\n",
        "import pandas as pd\n",
        "import seaborn as sns\n",
        "sns.set_theme(style=\"darkgrid\")\n",
        "import functools\n",
        "from copy import deepcopy"
      ]
    },
    {
      "cell_type": "code",
      "source": [
        "def doNothing(): #For debugging purposes when a function needs to be passed in\n",
        "  pass\n",
        "\n",
        "clamp = lambda n, minn, maxn: max(min(maxn, n), minn)\n",
        "\n",
        "def grabMeans(netw,grouplist):\n",
        "  return {i: netw.nodes[i]['mean'] for i in grouplist}\n",
        "\n",
        "def grabGroupsize(netw,grouplist):\n",
        "  return {group: len(list(netw.neighbors(group))) for group in grouplist}\n",
        "\n",
        "def distMatrix1D(m): #Coded this up quickly because I'm too lazy to import scipy\n",
        "  m = np.array(m)\n",
        "  dist = np.tile(m,(len(m),1))\n",
        "  return np.abs(dist - dist.T)\n",
        "\n",
        "def moving_average(a, n=3) :\n",
        "    ret = np.cumsum(a, dtype=float)\n",
        "    ret[n:] = ret[n:] - ret[:-n]\n",
        "    return ret[n - 1:] / n"
      ],
      "metadata": {
        "id": "Zn2k1vkXiKwY"
      },
      "execution_count": null,
      "outputs": []
    },
    {
      "cell_type": "markdown",
      "source": [
        "Next, I want to implement a tracker to keep track of the following:\n",
        "\n",
        "* Mean difference between indiv and group valence (as a mean of that difference, per group, over time)\n",
        "* Variance of differences between indiv and group valence (as calculated from the distribution of valences, per group, over time)"
      ],
      "metadata": {
        "id": "DlGQEdx7OMq9"
      }
    },
    {
      "cell_type": "code",
      "source": [
        "class GroupshiftSim():\n",
        "    \n",
        "#===============================================================================\n",
        "# Intializing\n",
        "#===============================================================================\n",
        "\n",
        "  def __init__(self, groupshift_function, indivchoice_function, lowvalence = 0, highvalence =100, s = 1, inittype='random', save_timesteps = []):\n",
        "    self.lowvalence = lowvalence\n",
        "    self.highvalence = highvalence\n",
        "    self.s = s\n",
        "\n",
        "    self.savemeans = []\n",
        "    self.savesizes = []\n",
        "    self.save_timesteps = [0] + save_timesteps\n",
        "    self.saved_graphs = {}\n",
        "\n",
        "    self.groupShift = groupshift_function\n",
        "    self.indivChoice = indivchoice_function\n",
        "    #Valence range?\n",
        "    #Valence dimensions?\n",
        "    #Toroid?\n",
        "    #Resettype?\n",
        "    if inittype not in ['random', 'sorted']:\n",
        "      raise Exception(\"Invalid type of graph connectivity initialization for this groupshift simulation.\")\n",
        "\n",
        "  def initializeNodes(self, num_nodes, num_groups, inittype): \n",
        "    self.num_nodes = num_nodes\n",
        "    self.num_groups = num_groups\n",
        "    self.grouplist = ['Group%i'%i for i in range(num_groups)]\n",
        "    self.nodelist = list(range(num_nodes))\n",
        "    \n",
        "    #Creating graph\n",
        "    self.g = nx.Graph()\n",
        "    if inittype == 'random':\n",
        "      nodes_with_valence = [(i,{'valence':np.random.randint(self.lowvalence,self.highvalence, size=self.s)}) for i in self.nodelist]\n",
        "      self.g.add_nodes_from( nodes_with_valence )   #Add nodes with attribute 'valence': (R,G,B)\n",
        "      self.g.add_nodes_from( self.grouplist ) #Add grouplist nodes    \n",
        "      self.g.add_edges_from( [(i,np.random.choice(self.grouplist)) for i in self.nodelist] )  #Add edges randomly between nodes and grouplist nodes\n",
        "    elif inittype == 'sorted':\n",
        "      self.g.add_nodes_from( self.grouplist )\n",
        "      self.g.add_nodes_from( self.nodelist )\n",
        "      edgelist = [(i,np.random.choice(self.grouplist)) for i in self.nodelist]\n",
        "      self.g.add_edges_from( edgelist )\n",
        "      sorted_nodes, sorted_groups = zip(*sorted(edgelist, key=lambda kv:(kv[1], kv[0])))\n",
        "      sorted_valences = sorted( [np.random.randint(self.lowvalence,self.highvalence, size=self.s) for i in range(self.num_nodes)] )\n",
        "      valence_dict = {sorted_nodes[i]: sorted_valences[i] for i in range(len(sorted_nodes)) }\n",
        "      nx.set_node_attributes(self.g, valence_dict, 'valence')\n",
        "    \n",
        "#===============================================================================\n",
        "# Running simulations, saving data\n",
        "#===============================================================================\n",
        "\n",
        "  def runSimulation(self, timesteps, **kwargs):\n",
        "    self.timesteps = timesteps\n",
        "    self.save_timesteps.append(timesteps-1)\n",
        "    for t in tqdm(range(self.timesteps)):\n",
        "      #Save out the graph data\n",
        "      if t in self.save_timesteps:\n",
        "        self.saved_graphs[t] = deepcopy(self.g)\n",
        "\n",
        "      #Perform group shift function\n",
        "      self.groupShift(self)\n",
        "\n",
        "      #Save out the statistical data\n",
        "      thesemeans = grabMeans(self.g,self.grouplist)\n",
        "      thesesizes = grabGroupsize(self.g,self.grouplist)\n",
        "      self.savemeans.append(thesemeans)\n",
        "      self.savesizes.append(thesesizes)\n",
        "\n",
        "      #Perform node selection step function\n",
        "      self.indivChoice(self, thesemeans, kwargs) #How to parameterize? \n",
        "\n",
        "#===============================================================================\n",
        "# Plotting functions\n",
        "#===============================================================================\n",
        "\n",
        "  def plotTimelineMeans(self, legend=True):\n",
        "    #Grabbing and plotting means over time\n",
        "    meansdata = {i:[] for i in self.grouplist}\n",
        "    for m in self.savemeans:\n",
        "      for group in self.grouplist:\n",
        "        meansdata[group].append(m[group])\n",
        "\n",
        "    plt.figure(figsize=(15,10))\n",
        "    for group in self.grouplist:\n",
        "      thisthing = np.array(meansdata[group]).T\n",
        "      plt.plot(thisthing[0], linewidth=1, label=group)\n",
        "\n",
        "    plt.title(\"Group means over time, 1D\")\n",
        "    plt.xlabel(\"Time (t)\")\n",
        "    plt.ylabel(\"Mean valence\")\n",
        "    plt.ylim(self.lowvalence,self.highvalence)\n",
        "    if legend: \n",
        "      plt.legend()\n",
        "    plt.show()\n",
        "\n",
        "  def plotTimelineSizes(self, legend=True):\n",
        "    #Constructing a tidy dataframe\n",
        "    to_dataframe = {'group': [], 'timestep': [], 'size': []}\n",
        "    for i, m in enumerate(self.savesizes):\n",
        "      for group in self.grouplist:\n",
        "        to_dataframe['group'].append(group)\n",
        "        to_dataframe['timestep'].append(i)\n",
        "        to_dataframe['size'].append(m[group])\n",
        "      \n",
        "    modeldf = pd.DataFrame(to_dataframe)\n",
        "    sns.set(rc={'figure.figsize':(11.7,8.27)})\n",
        "    sns.lineplot(x='timestep', y='size', hue='group', data = modeldf, linewidth=1, legend=legend).set(title=\"Group sizes over time\")\n",
        "\n",
        "  def plotIndivDist(self, t='now', overall = True, legend=True):\n",
        "    if t=='now':\n",
        "      thisgraph = self.g\n",
        "    elif type(t) == int:\n",
        "      if t not in self.saved_graphs:\n",
        "        raise Exception(\"The graph at the timestep you requested has not been saved. This timestep is not available.\")\n",
        "      thisgraph = self.saved_graphs[t]      \n",
        "    else: \n",
        "      raise Exception(\"Invalid input for timeslice parameter for plotting the distribution of individual values.\")\n",
        "\n",
        "    agent_valences = nx.get_node_attributes(thisgraph,'valence')\n",
        "    agent_sets = {xx:list(thisgraph.neighbors(xx)) for xx in self.grouplist} #Grab the agents associated with each group\n",
        "    agent_sets_valence = {xx:[agent_valences[i][0] for i in agent_sets[xx]] for xx in self.grouplist} #Grab the valence associated with each agent, by group\n",
        "\n",
        "\n",
        "    if overall:\n",
        "      agent_valences_squish = [x[0] for x in agent_valences.values()]\n",
        "      sns.set(rc={'figure.figsize':(11.7,8.27)})\n",
        "      sns.displot(agent_valences_squish, bins=15, kde=True).set(title='Distributions of agent opinions, all')\n",
        "      plt.xlabel('Valence')\n",
        "      plt.ylabel('Num agents')\n",
        "    else: \n",
        "      data_to_plot = [agent_sets_valence[xx] for xx in self.grouplist]\n",
        "      sns.displot(data_to_plot, kind='kde', legend=legend).set(title=\"Distributions of agent opinions by group\")"
      ],
      "metadata": {
        "id": "hmyW56LaUs5l"
      },
      "execution_count": null,
      "outputs": []
    },
    {
      "cell_type": "markdown",
      "source": [
        "# Running"
      ],
      "metadata": {
        "id": "R32nGEscO925"
      }
    },
    {
      "cell_type": "markdown",
      "source": [
        "## Common functions\n",
        "\n",
        "Certain functions, like groups calculating their means, will occur across multiple models, but they aren't necessarily universal functions in that they are technically parameters of the model. "
      ],
      "metadata": {
        "id": "jh-z8BK6spaO"
      }
    },
    {
      "cell_type": "code",
      "source": [
        "#This function edits a graph in place\n",
        "def recalcMean(self, netw, groupname, resettype='sust', s=1):\n",
        "  groupneighs = list(netw.neighbors(groupname))\n",
        "  if len(groupneighs)>0:\n",
        "    thismean = np.mean( np.vstack( [netw.nodes[eachnode]['valence'] for eachnode in groupneighs] ), axis=0) #Stack the RGB valences and take the mean\n",
        "    netw.nodes[groupname]['mean'] = thismean\n",
        "  else:\n",
        "    #Set default to zero. This may cause the homogenization\n",
        "    if resettype == 'zero':\n",
        "      netw.nodes[groupname]['mean'] = np.zeros(s)\n",
        "    elif resettype == 'rand':\n",
        "      #Set default to random. \n",
        "      netw.nodes[groupname]['mean'] = np.random.randint(self.lowvalence,self.highvalence,size=s)\n",
        "    elif resettype == 'sust':\n",
        "      pass #Do nothing and let the mean be the same as it was\n",
        "\n",
        "def groupshiftSimpleMean(self, resettype='sust', s=1):\n",
        "  for i in self.grouplist: \n",
        "    recalcMean(self, self.g, i, resettype=resettype, s=s)"
      ],
      "metadata": {
        "id": "27uogExHsoaF"
      },
      "execution_count": null,
      "outputs": []
    },
    {
      "cell_type": "markdown",
      "source": [
        "## Model 1 Baseline"
      ],
      "metadata": {
        "id": "X5qMUjPWsFGv"
      }
    },
    {
      "cell_type": "code",
      "source": [
        "def oneNodeOpenSwitch(self, public_info, kwargs):\n",
        "  #Randomly select a node\n",
        "  thisnode = np.random.choice(self.nodelist)\n",
        "\n",
        "  #Calculate distances (for colors)\n",
        "  dists = {}\n",
        "  for i in public_info:\n",
        "    dists[i] = np.linalg.norm(public_info[i] - self.g.nodes[thisnode]['valence'])\n",
        "  #Get the group with the minimum distance\n",
        "  mingroup = min(dists,key=dists.get)\n",
        "  #Replace current group edge\n",
        "  currentgroup = list(self.g.neighbors(thisnode))[0]\n",
        "  if currentgroup != mingroup:\n",
        "    self.g.remove_edge(thisnode,currentgroup)\n",
        "    self.g.add_edge(thisnode,mingroup)"
      ],
      "metadata": {
        "id": "8ptvK9jKiW0d"
      },
      "execution_count": null,
      "outputs": []
    },
    {
      "cell_type": "code",
      "source": [
        "testSim = GroupshiftSim(groupshift_function = groupshiftSimpleMean,\n",
        "                        indivchoice_function = oneNodeOpenSwitch,\n",
        "                        save_timesteps=list(range(0,10000,1000)))\n",
        "\n",
        "num_nodes = 1000\n",
        "num_groups = 10\n",
        "timesteps = 10000\n",
        "\n",
        "testSim.initializeNodes(num_nodes, num_groups, 'random')\n",
        "testSim.runSimulation(timesteps)"
      ],
      "metadata": {
        "collapsed": true,
        "id": "V6Hd_yv3Vw40"
      },
      "execution_count": null,
      "outputs": []
    },
    {
      "cell_type": "code",
      "source": [
        "testSim.plotIndivDist(t=0, overall=False)\n",
        "testSim.plotIndivDist(t=1000, overall=False)\n",
        "testSim.plotIndivDist(t=4000, overall=False)\n",
        "testSim.plotIndivDist(overall=False)"
      ],
      "metadata": {
        "id": "aypQvRjJBWTU"
      },
      "execution_count": null,
      "outputs": []
    },
    {
      "cell_type": "code",
      "source": [
        "testSim.plotTimelineMeans()\n",
        "testSim.plotTimelineSizes()"
      ],
      "metadata": {
        "id": "ldzCsgC9q5Ow"
      },
      "execution_count": null,
      "outputs": []
    },
    {
      "cell_type": "markdown",
      "source": [
        "## Model 2 Including error\n",
        "\n",
        "Inherited from model 1, but agent slightly changes randomly at each change. "
      ],
      "metadata": {
        "id": "JNvILcCKLXqj"
      }
    },
    {
      "cell_type": "code",
      "source": [
        "def oneNodeOpenSwitchWithError(self, public_info, kwargs):\n",
        "  #Randomly select a node\n",
        "  thisnode = np.random.choice(self.nodelist)\n",
        "\n",
        "  #Calculate distances (for colors)\n",
        "  dists = {}\n",
        "  for i in public_info:\n",
        "    dists[i] = np.linalg.norm(public_info[i] - self.g.nodes[thisnode]['valence'])\n",
        "  #Get the group with the minimum distance\n",
        "  mingroup = min(dists,key=dists.get)\n",
        "  #Replace current group edge\n",
        "  currentgroup = list(self.g.neighbors(thisnode))[0]\n",
        "  if currentgroup != mingroup:\n",
        "    self.g.remove_edge(thisnode,currentgroup)\n",
        "    self.g.add_edge(thisnode,mingroup)\n",
        "  \n",
        "  #Add randomly noise to agent's value\n",
        "  self.g.nodes[thisnode]['valence'] = [clamp(np.random.normal(self.g.nodes[thisnode]['valence'][x],kwargs['e']),self.lowvalence,self.highvalence) for x in range(self.s)]"
      ],
      "metadata": {
        "id": "7JAJz6ZQs8Yf"
      },
      "execution_count": null,
      "outputs": []
    },
    {
      "cell_type": "code",
      "source": [
        "testSim = GroupshiftSim(groupshift_function = groupshiftSimpleMean,\n",
        "                        indivchoice_function = oneNodeOpenSwitchWithError)\n",
        "\n",
        "num_nodes = 1000\n",
        "num_groups = 10\n",
        "timesteps = 10000\n",
        "\n",
        "testSim.initializeNodes(num_nodes, num_groups, 'random')\n",
        "testSim.runSimulation(timesteps, e=100) \n",
        "# I don't know why, but e has to be pretty big in order for there to be an effect on the groups. "
      ],
      "metadata": {
        "id": "wFF6dLoPtGrn"
      },
      "execution_count": null,
      "outputs": []
    },
    {
      "cell_type": "code",
      "source": [
        "testSim.plotTimelineMeans()\n",
        "testSim.plotTimelineSizes()"
      ],
      "metadata": {
        "id": "Mxkc77jx1L65"
      },
      "execution_count": null,
      "outputs": []
    },
    {
      "cell_type": "markdown",
      "source": [
        "## Model 3 Latitude of acceptability\n",
        "\n",
        "Limiting individual's capacity to choose groups based on their current group"
      ],
      "metadata": {
        "id": "GDbPQZVRl8eT"
      }
    },
    {
      "cell_type": "code",
      "source": [
        "def model3(num_nodes,num_groups,timesteps, k,plots=False,resettype='zero', s=1):\n",
        "  grouplist = ['Group%i'%i for i in range(num_groups)]\n",
        "  #Creating graph\n",
        "  g = nx.Graph()\n",
        "  g.add_nodes_from( [(i,{'valence':np.random.randint(0,255,size=s)}) for i in range(num_nodes)] )   #Add nodes with attribute 'valence': (R,G,B)\n",
        "  g.add_nodes_from( grouplist ) #Add grouplist nodes\n",
        "  g.add_edges_from( [(i,np.random.choice(grouplist)) for i in range(num_nodes)] )  #Add edges randomly between nodes and grouplist nodes\n",
        "\n",
        "  #Plot before-and-after, if desired\n",
        "  if plots==True:\n",
        "    pos = nx.spring_layout(g)\n",
        "    nx.draw(g,pos=pos,node_size=5)\n",
        "    plt.show()\n",
        "\n",
        "  savemeans = []\n",
        "  savesizes = []\n",
        "\n",
        "  for t in tqdm(range(timesteps)):\n",
        "    #Recalculate the means\n",
        "    for i in grouplist:\n",
        "      meanRecalc(g,i,resettype,s=s)\n",
        "    #Randomly select a node\n",
        "    thisnode = np.random.choice(range(num_nodes))\n",
        "\n",
        "    #Grab statistics\n",
        "    thesemeans = grabMeans(g,grouplist)\n",
        "    thesesizes = grabGroupsize(g,grouplist)\n",
        "    savemeans.append(thesemeans)\n",
        "    savesizes.append(thesesizes)\n",
        "\n",
        "    #Calculate distances between each group\n",
        "    currentgroup = list(g.neighbors(thisnode))[0]\n",
        "    #Get the k nearest groups\n",
        "    gdists = {}\n",
        "    for i in thesemeans:\n",
        "      gdists[i] = np.linalg.norm(thesemeans[i] - g.nodes[currentgroup]['mean'])\n",
        "    #Get the groupS (MULTIPLE!) within the latitude of acceptability\n",
        "    mingroups = sorted(gdists, key=gdists.get)[0:k]\n",
        "\n",
        "    #Calculate distances against the individual\n",
        "    dists = {}\n",
        "    for i in mingroups:\n",
        "      dists[i] = np.linalg.norm(thesemeans[i] - g.nodes[thisnode]['valence'])\n",
        "    #Get the group with the minimum distance\n",
        "    mingroup = min(dists,key=dists.get)\n",
        "    #Replace current group edge\n",
        "    if currentgroup != mingroup:\n",
        "      g.remove_edge(thisnode,currentgroup)\n",
        "      g.add_edge(thisnode,mingroup)\n",
        "    \n",
        "  if plots==True:\n",
        "    pos = nx.spring_layout(g)\n",
        "    nx.draw(g,pos=pos,node_size=5)\n",
        "    plt.show()\n",
        "  \n",
        "  otherdata = {'means': savemeans, 'sizes': savesizes}\n",
        "  \n",
        "  return g, otherdata"
      ],
      "metadata": {
        "id": "nDcaTj0kmAVW"
      },
      "execution_count": null,
      "outputs": []
    },
    {
      "cell_type": "markdown",
      "source": [
        "## Model 4 Simple dictator"
      ],
      "metadata": {
        "id": "PE4k463zWO-I"
      }
    },
    {
      "cell_type": "code",
      "source": [
        "def model4(num_nodes,num_groups,timesteps,plots=False,resettype='zero', s=1):\n",
        "  grouplist = ['Group%i'%i for i in range(num_groups)]\n",
        "  #Creating graph\n",
        "  g = nx.Graph()\n",
        "  g.add_nodes_from( [(i,{'valence':np.random.randint(0,255,size=s)}) for i in range(num_nodes)] )   #Add nodes with attribute 'valence': (R,G,B)\n",
        "  g.add_nodes_from( grouplist ) #Add grouplist nodes\n",
        "  g.add_edges_from( [(i,np.random.choice(grouplist)) for i in range(num_nodes)] )  #Add edges randomly between nodes and grouplist nodes\n",
        "\n",
        "  #Plot before-and-after, if desired\n",
        "  if plots==True:\n",
        "    pos = nx.spring_layout(g)\n",
        "    nx.draw(g,pos=pos,node_size=5)\n",
        "    plt.show()\n",
        "\n",
        "  savemeans = []\n",
        "  savesizes = []\n",
        "\n",
        "  for t in tqdm(range(timesteps)):\n",
        "    #Recalculate the means\n",
        "    for i in grouplist:\n",
        "      meanRecalc(g,i,resettype,s=s)\n",
        "    #Randomly select a node\n",
        "    thisnode = np.random.choice(range(num_nodes))\n",
        "\n",
        "    #Grab statistics\n",
        "    thesemeans = grabMeans(g,grouplist)\n",
        "    thesesizes = grabGroupsize(g,grouplist)\n",
        "    savemeans.append(thesemeans)\n",
        "    savesizes.append(thesesizes)\n",
        "\n",
        "    #Calculate distances (for colors)\n",
        "    dists = {}\n",
        "    for i in thesemeans:\n",
        "      dists[i] = np.linalg.norm(thesemeans[i] - g.nodes[0]['valence']) #Calculated against the preference of a single node\n",
        "    #Get the group with the minimum distance\n",
        "    mingroup = min(dists,key=dists.get)\n",
        "    #Replace current group edge\n",
        "    currentgroup = list(g.neighbors(thisnode))[0]\n",
        "    if currentgroup != mingroup:\n",
        "      g.remove_edge(thisnode,currentgroup)\n",
        "      g.add_edge(thisnode,mingroup)\n",
        "    \n",
        "  if plots==True:\n",
        "    pos = nx.spring_layout(g)\n",
        "    nx.draw(g,pos=pos,node_size=5)\n",
        "    plt.show()\n",
        "  \n",
        "  otherdata = {'means': savemeans, 'sizes': savesizes}\n",
        "  \n",
        "  return g, otherdata"
      ],
      "metadata": {
        "id": "NUQbviQjWNH1"
      },
      "execution_count": null,
      "outputs": []
    },
    {
      "cell_type": "markdown",
      "source": [
        "## Model 5 Modifier: Central Media"
      ],
      "metadata": {
        "id": "mVbrpVu-vuzu"
      }
    },
    {
      "cell_type": "code",
      "source": [
        "def model5(num_nodes,num_groups,timesteps,plots=False,resettype='zero', s=1):\n",
        "  grouplist = ['Group%i'%i for i in range(num_groups)]\n",
        "  #Creating graph\n",
        "  g = nx.Graph()\n",
        "  g.add_nodes_from( [(i,{'valence':np.random.randint(0,255,size=s)}) for i in range(num_nodes)] )   #Add nodes with attribute 'valence': (R,G,B)\n",
        "  g.add_nodes_from( grouplist ) #Add grouplist nodes\n",
        "  g.add_edges_from( [(i,np.random.choice(grouplist)) for i in range(num_nodes)] )  #Add edges randomly between nodes and grouplist nodes\n",
        "\n",
        "  #Plot before-and-after, if desired\n",
        "  if plots==True:\n",
        "    pos = nx.spring_layout(g)\n",
        "    nx.draw(g,pos=pos,node_size=5)\n",
        "    plt.show()\n",
        "\n",
        "  savemeans = []\n",
        "  savesizes = []\n",
        "\n",
        "  for t in tqdm(range(timesteps)):\n",
        "    #Recalculate the means\n",
        "    for i in grouplist:\n",
        "      meanRecalc(g,i,resettype,s=s)\n",
        "    #Randomly select a node\n",
        "    thisnode = np.random.choice(range(num_nodes))\n",
        "\n",
        "    #Grab statistics\n",
        "    thesemeans = grabMeans(g,grouplist)\n",
        "    thesesizes = grabGroupsize(g,grouplist)\n",
        "    savemeans.append(thesemeans)\n",
        "    savesizes.append(thesesizes)\n",
        "\n",
        "    #Calculate distances (for colors)\n",
        "    dists = {}\n",
        "    for i in thesemeans:\n",
        "      d = np.linalg.norm(thesemeans[i] - g.nodes[thisnode]['valence'])\n",
        "      groupnum = int(''.join(map(lambda c: c if c in '0123456789' else '', i))) #Modify the distances\n",
        "      dists[i] = d*(float(groupnum+1)/num_groups)\n",
        "    #Get the group with the minimum distance\n",
        "    mingroup = min(dists,key=dists.get)\n",
        "    #Replace current group edge\n",
        "    currentgroup = list(g.neighbors(thisnode))[0]\n",
        "    if currentgroup != mingroup:\n",
        "      g.remove_edge(thisnode,currentgroup)\n",
        "      g.add_edge(thisnode,mingroup)\n",
        "    \n",
        "  if plots==True:\n",
        "    pos = nx.spring_layout(g)\n",
        "    nx.draw(g,pos=pos,node_size=5)\n",
        "    plt.show()\n",
        "  \n",
        "  otherdata = {'means': savemeans, 'sizes': savesizes}\n",
        "  \n",
        "  return g, otherdata"
      ],
      "metadata": {
        "id": "bwqgw_jovttB"
      },
      "execution_count": null,
      "outputs": []
    },
    {
      "cell_type": "markdown",
      "source": [
        "## Model 6 Group dictator"
      ],
      "metadata": {
        "id": "2k-T28UP90DP"
      }
    },
    {
      "cell_type": "code",
      "source": [
        "def model6(num_nodes,num_groups,timesteps,plots=False,resettype='zero', s=1):\n",
        "  grouplist = ['Group%i'%i for i in range(num_groups)]\n",
        "  #Creating graph\n",
        "  g = nx.Graph()\n",
        "  g.add_nodes_from( [(i,{'valence':np.random.randint(0,255,size=s)}) for i in range(num_nodes)] )   #Add nodes with attribute 'valence': (R,G,B)\n",
        "  g.add_nodes_from( grouplist ) #Add grouplist nodes\n",
        "  g.add_edges_from( [(i,np.random.choice(grouplist)) for i in range(num_nodes)] )  #Add edges randomly between nodes and grouplist nodes\n",
        "\n",
        "  #Plot before-and-after, if desired\n",
        "  if plots==True:\n",
        "    pos = nx.spring_layout(g)\n",
        "    nx.draw(g,pos=pos,node_size=5)\n",
        "    plt.show()\n",
        "\n",
        "  savemeans = []\n",
        "  savesizes = []\n",
        "\n",
        "  for t in tqdm(range(timesteps)):\n",
        "    #Recalculate the means\n",
        "    for i in grouplist:\n",
        "      meanRecalc(g,i,resettype,s=s)\n",
        "    #Randomly select a node\n",
        "    thisnode = np.random.choice(range(num_nodes))\n",
        "\n",
        "    #Grab statistics\n",
        "    thesemeans = grabMeans(g,grouplist)\n",
        "    thesesizes = grabGroupsize(g,grouplist)\n",
        "    savemeans.append(thesemeans)\n",
        "    savesizes.append(thesesizes)\n",
        "\n",
        "    #Randomly select member of group 0\n",
        "    dictatornode = np.random.choice( list(g.neighbors('Group0')) )\n",
        "    #Calculate distances (for colors)\n",
        "    dists = {}\n",
        "    for i in thesemeans:\n",
        "      dists[i] = np.linalg.norm(thesemeans[i] - g.nodes[dictatornode]['valence']) #Calculated against the preference of a single node\n",
        "    #Get the group with the minimum distance\n",
        "    mingroup = min(dists,key=dists.get)\n",
        "    #Replace current group edge\n",
        "    currentgroup = list(g.neighbors(thisnode))[0]\n",
        "    if currentgroup != mingroup:\n",
        "      g.remove_edge(thisnode,currentgroup)\n",
        "      g.add_edge(thisnode,mingroup)\n",
        "    \n",
        "  if plots==True:\n",
        "    pos = nx.spring_layout(g)\n",
        "    nx.draw(g,pos=pos,node_size=5)\n",
        "    plt.show()\n",
        "  \n",
        "  otherdata = {'means': savemeans, 'sizes': savesizes}\n",
        "  \n",
        "  return g, otherdata"
      ],
      "metadata": {
        "id": "oQVt31Nk98qw"
      },
      "execution_count": null,
      "outputs": []
    },
    {
      "cell_type": "markdown",
      "source": [
        "## Model 7 Change rates 1\n",
        "\n",
        "At every timestep, randomly update the opinion of a single agent. Change group update function to update by rate toward mean. "
      ],
      "metadata": {
        "id": "MFEWzKNMdZvx"
      }
    },
    {
      "cell_type": "code",
      "source": [
        "def meanAdjust(netw, groupname, rate, resettype, s=3):\n",
        "  groupneighs = list(netw.neighbors(groupname))\n",
        "  if len(groupneighs)>0:\n",
        "    oldmean = netw.nodes[groupname]['mean']\n",
        "    truemean = np.mean( np.vstack( [netw.nodes[eachnode]['valence'] for eachnode in groupneighs] ), axis=0) #Stack the RGB valences and take the mean\n",
        "    if oldmean < truemean: \n",
        "      netw.nodes[groupname]['mean'] = oldmean + rate\n",
        "    elif oldmean > truemean:\n",
        "      netw.nodes[groupname]['mean'] = oldmean - rate\n",
        "  else:\n",
        "    #Set default to zero. This may cause the homogenization\n",
        "    if resettype == 'zero':\n",
        "      netw.nodes[groupname]['mean'] = np.zeros(s)\n",
        "    elif resettype == 'rand':\n",
        "      #Set default to random. \n",
        "      netw.nodes[groupname]['mean'] = np.random.randint(0,255,size=s)\n",
        "    elif resettype == 'sust':\n",
        "      pass #Do nothing and let the mean be the same as it was"
      ],
      "metadata": {
        "id": "LbjEbNnsf6Im"
      },
      "execution_count": null,
      "outputs": []
    },
    {
      "cell_type": "code",
      "source": [
        "def model7(num_nodes,num_groups,timesteps,eta, theta, plots=False,resettype='zero', s=1):\n",
        "  grouplist = ['Group%i'%i for i in range(num_groups)]\n",
        "  #Creating graph\n",
        "  g = nx.Graph()\n",
        "  g.add_nodes_from( [(i,{'valence':np.random.randint(0,255,size=s)}) for i in range(num_nodes)] )   #Add nodes with attribute 'valence': (R,G,B)\n",
        "  g.add_nodes_from( grouplist ) #Add grouplist nodes\n",
        "  g.add_edges_from( [(i,np.random.choice(grouplist)) for i in range(num_nodes)] )  #Add edges randomly between nodes and grouplist nodes\n",
        "\n",
        "  #Instantiate group means\n",
        "  for i in grouplist:\n",
        "    meanRecalc(g,i,resettype,s=s)\n",
        "\n",
        "  #Plot before-and-after, if desired\n",
        "  if plots==True:\n",
        "    pos = nx.spring_layout(g)\n",
        "    nx.draw(g,pos=pos,node_size=5)\n",
        "    plt.show()\n",
        "\n",
        "  savemeans = []\n",
        "  savesizes = []\n",
        "\n",
        "  for t in tqdm(range(timesteps)):\n",
        "    #Recalculate the means\n",
        "    for i in grouplist:\n",
        "      meanAdjust(g,i,theta,resettype,s=s)\n",
        "    #Randomly select a node\n",
        "    thisnode = np.random.choice(range(num_nodes))\n",
        "\n",
        "    #Grab statistics\n",
        "    thesemeans = grabMeans(g,grouplist)\n",
        "    thesesizes = grabGroupsize(g,grouplist)\n",
        "    savemeans.append(thesemeans)\n",
        "    savesizes.append(thesesizes)\n",
        "\n",
        "    #Calculate distances (for colors)\n",
        "    dists = {}\n",
        "    for i in thesemeans:\n",
        "      dists[i] = np.linalg.norm(thesemeans[i] - g.nodes[thisnode]['valence'])\n",
        "    #Get the group with the minimum distance\n",
        "    mingroup = min(dists,key=dists.get)\n",
        "    #Replace current group edge\n",
        "    currentgroup = list(g.neighbors(thisnode))[0]\n",
        "    if currentgroup != mingroup:\n",
        "      g.remove_edge(thisnode,currentgroup)\n",
        "      g.add_edge(thisnode,mingroup)\n",
        "\n",
        "    #Randomly update one agent's opinion\n",
        "    shiftnode = np.random.choice(range(num_nodes))\n",
        "    oldvalence = g.nodes[shiftnode]['valence']\n",
        "    groupmean = g.nodes[list(g.neighbors(thisnode))[0]]['mean']\n",
        "    if oldvalence < groupmean:\n",
        "      g.nodes[shiftnode]['valence'] = oldvalence + eta\n",
        "    elif oldvalence > groupmean:\n",
        "      g.nodes[shiftnode]['valence'] = oldvalence - eta\n",
        "    \n",
        "  if plots==True:\n",
        "    pos = nx.spring_layout(g)\n",
        "    nx.draw(g,pos=pos,node_size=5)\n",
        "    plt.show()\n",
        "  \n",
        "  otherdata = {'means': savemeans, 'sizes': savesizes}\n",
        "  \n",
        "  return g, otherdata"
      ],
      "metadata": {
        "id": "XtjGVwl2deyN"
      },
      "execution_count": null,
      "outputs": []
    },
    {
      "cell_type": "markdown",
      "source": [
        "## Model 8 Simple suboptimal choices"
      ],
      "metadata": {
        "id": "W2xXzNgR3Zu3"
      }
    },
    {
      "cell_type": "code",
      "source": [
        "def oneNodeOpenSwitchSuboptimal(self, public_info, kwargs):\n",
        "  #Randomly select a node\n",
        "  thisnode = np.random.choice(self.nodelist)\n",
        "\n",
        "  #Calculate distances (for colors)\n",
        "  dists = {}\n",
        "  for i in public_info:\n",
        "    dists[i] = np.linalg.norm(public_info[i] - self.g.nodes[thisnode]['valence'])\n",
        "  #Get the group with the minimum distance\n",
        "  dist_order = sorted(dists,key=dists.get)\n",
        "  #Replace current group edge\n",
        "  currentgroup = list(self.g.neighbors(thisnode))[0]\n",
        "  currentgroupindex = dist_order.index(currentgroup)\n",
        "  if currentgroupindex > 0:\n",
        "    newgroup = dist_order[currentgroupindex-1]\n",
        "    self.g.remove_edge(thisnode,currentgroup)\n",
        "    self.g.add_edge(thisnode,newgroup)"
      ],
      "metadata": {
        "id": "P0tX_iHmGR2U"
      },
      "execution_count": null,
      "outputs": []
    },
    {
      "cell_type": "code",
      "source": [
        "num_nodes = 2500\n",
        "num_groups = 50\n",
        "timesteps = 30000\n",
        "\n",
        "testSim = GroupshiftSim(groupshift_function = groupshiftSimpleMean,\n",
        "                        indivchoice_function = oneNodeOpenSwitchSuboptimal,\n",
        "                        save_timesteps=list(range(0,timesteps,1000)))\n",
        "\n",
        "testSim.initializeNodes(num_nodes, num_groups, 'random')\n",
        "testSim.runSimulation(timesteps)"
      ],
      "metadata": {
        "id": "Dz4UyOsBGTkf"
      },
      "execution_count": null,
      "outputs": []
    },
    {
      "cell_type": "code",
      "source": [
        "testSim.plotTimelineMeans(legend=False)\n",
        "testSim.plotTimelineSizes(legend=False)"
      ],
      "metadata": {
        "id": "F_vSaQ2NM-Xs"
      },
      "execution_count": null,
      "outputs": []
    },
    {
      "cell_type": "code",
      "source": [
        "for i in range(0,timesteps,1000):\n",
        "  testSim.plotIndivDist(t=i, overall=False)\n",
        "testSim.plotIndivDist(overall=False)"
      ],
      "metadata": {
        "id": "pjL2LyCLGUVE"
      },
      "execution_count": null,
      "outputs": []
    },
    {
      "cell_type": "markdown",
      "source": [
        "# Misc code pile"
      ],
      "metadata": {
        "id": "jgGfTSfj5RD5"
      }
    },
    {
      "cell_type": "code",
      "source": [
        "#Plot running average\n",
        "\n",
        "binsize = 250\n",
        "plt.figure(figsize=(15,10))\n",
        "\n",
        "for group in grouplist:\n",
        "  thisthing = np.array(meansdata[group]).T\n",
        "  plt.plot(moving_average(thisthing[0], binsize), linewidth=3, label=group)\n",
        "\n",
        "plt.title(\"Group means over time, 1D\")\n",
        "plt.xlabel(\"Time (t)\")\n",
        "plt.ylabel(\"Mean valence\")\n",
        "plt.ylim(0,255)\n",
        "plt.legend()\n",
        "plt.show()"
      ],
      "metadata": {
        "id": "L2WjHdU9Kn6H"
      },
      "execution_count": null,
      "outputs": []
    }
  ]
}